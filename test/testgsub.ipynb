{
 "cells": [
  {
   "cell_type": "markdown",
   "id": "d62167e4-2908-4d16-9773-f9cdc0a9bc68",
   "metadata": {},
   "source": [
    "## Test Glyph Substitution GSUB table\n"
   ]
  },
  {
   "cell_type": "code",
   "execution_count": 1,
   "id": "3ff7ffe0-3197-4719-bead-3f01429c0197",
   "metadata": {},
   "outputs": [
    {
     "data": {
      "text/plain": [
       "'0.5'"
      ]
     },
     "execution_count": 1,
     "metadata": {},
     "output_type": "execute_result"
    }
   ],
   "source": [
    "import logging\n",
    "logging.getLogger().setLevel(logging.DEBUG)\n",
    "\n",
    "import ziafont as zf\n",
    "#zf.config.debug = True\n",
    "zf.__version__"
   ]
  },
  {
   "cell_type": "code",
   "execution_count": 2,
   "id": "1ba4d0c0-5572-4a04-9956-02a628874d2a",
   "metadata": {},
   "outputs": [
    {
     "name": "stderr",
     "output_type": "stream",
     "text": [
      "DEBUG:root:Unimplemented GPOS Lookup Type 5\n",
      "DEBUG:root:Unimplemented GPOS Lookup Type 5\n",
      "DEBUG:root:Unimplemented GPOS Lookup Type 5\n"
     ]
    }
   ],
   "source": [
    "font = zf.Font()"
   ]
  },
  {
   "cell_type": "code",
   "execution_count": 3,
   "id": "893b892b-7005-49d2-b720-df1de6e19110",
   "metadata": {},
   "outputs": [
    {
     "name": "stdout",
     "output_type": "stream",
     "text": [
      "scripts ['thai', 'math', 'kana', 'geor', 'runr', 'brai', 'DFLT', 'arab', 'cans', 'armn', 'grek', 'cher', 'cyrl', 'tfng', 'ogam', 'latn', 'hani', 'hebr', 'lao ', 'nko ']\n"
     ]
    }
   ],
   "source": [
    "print('scripts', font.scripts())"
   ]
  },
  {
   "cell_type": "code",
   "execution_count": 4,
   "id": "ac67dd60-3f86-4588-9934-42f765af6d5d",
   "metadata": {},
   "outputs": [
    {
     "data": {
      "image/svg+xml": [
       "<svg xmlns=\"http://www.w3.org/2000/svg\" xmlns:xlink=\"http://www.w3.org/1999/xlink\" width=\"642.07\" height=\"81.375\" viewBox=\"0 -59.156 642.07 81.375\"><symbol id=\"DejaVuSans_73\" width=\"4.453\" height=\"20.344\" viewBox=\"0 -14.789 4.453 20.344\"><path d=\"M 4.453 -9.117 L 4.453 -9.117 L 4.453 -8.221 L 3.422 -8.221 Q 2.842 -8.221 2.616 -7.986 Q 2.391 -7.752 2.391 -7.143 L 2.391 -6.562 L 4.166 -6.562 L 4.166 -5.725 L 2.391 -5.725 L 2.391 0 L 1.307 0 L 1.307 -5.725 L 0.275 -5.725 L 0.275 -6.562 L 1.307 -6.562 L 1.307 -7.02 Q 1.307 -8.115 1.816 -8.616 Q 2.326 -9.117 3.434 -9.117 Z \" /></symbol><symbol id=\"DejaVuSans_76\" width=\"2.209\" height=\"20.344\" viewBox=\"0 -14.789 2.209 20.344\"><path d=\"M 1.131 -6.562 L 1.131 -6.562 L 2.209 -6.562 L 2.209 0 L 1.131 0 Z M 1.131 -9.117 L 1.131 -9.117 L 2.209 -9.117 L 2.209 -7.752 L 1.131 -7.752 Z \" /></symbol><symbol id=\"DejaVuSans_81\" width=\"6.586\" height=\"20.344\" viewBox=\"0 -14.789 6.586 20.344\"><path d=\"M 6.586 -3.961 L 6.586 -3.961 L 6.586 0 L 5.508 0 L 5.508 -3.926 Q 5.508 -4.857 5.145 -5.32 Q 4.781 -5.783 4.055 -5.783 Q 3.182 -5.783 2.678 -5.227 Q 2.174 -4.67 2.174 -3.709 L 2.174 0 L 1.09 0 L 1.09 -6.562 L 2.174 -6.562 L 2.174 -5.543 Q 2.561 -6.135 3.085 -6.428 Q 3.609 -6.721 4.295 -6.721 Q 5.426 -6.721 6.006 -6.021 Q 6.586 -5.32 6.586 -3.961 Z \" /></symbol><symbol id=\"DejaVuSans_72\" width=\"6.744\" height=\"20.344\" viewBox=\"0 -14.789 6.744 20.344\"><path d=\"M 6.744 -3.551 L 6.744 -3.551 L 6.744 -3.023 L 1.787 -3.023 Q 1.857 -1.91 2.458 -1.327 Q 3.059 -0.744 4.131 -0.744 Q 4.752 -0.744 5.335 -0.896 Q 5.918 -1.049 6.492 -1.354 L 6.492 -0.334 Q 5.912 -0.088 5.303 0.041 Q 4.693 0.17 4.066 0.17 Q 2.496 0.17 1.579 -0.744 Q 0.662 -1.658 0.662 -3.217 Q 0.662 -4.828 1.532 -5.774 Q 2.402 -6.721 3.879 -6.721 Q 5.203 -6.721 5.974 -5.868 Q 6.744 -5.016 6.744 -3.551 Z M 5.666 -3.867 L 5.666 -3.867 Q 5.654 -4.752 5.171 -5.279 Q 4.688 -5.807 3.891 -5.807 Q 2.988 -5.807 2.446 -5.297 Q 1.904 -4.787 1.822 -3.861 Z \" /></symbol><symbol id=\"DejaVuSans_3\" width=\"0\" height=\"20.344\" viewBox=\"0 -14.789 0 20.344\" /><symbol id=\"DejaVuSans_90\" width=\"9.311\" height=\"20.344\" viewBox=\"0 -14.789 9.311 20.344\"><path d=\"M 0.504 -6.562 L 0.504 -6.562 L 1.582 -6.562 L 2.93 -1.441 L 4.271 -6.562 L 5.543 -6.562 L 6.891 -1.441 L 8.232 -6.562 L 9.311 -6.562 L 7.594 0 L 6.322 0 L 4.91 -5.379 L 3.492 0 L 2.221 0 Z \" /></symbol><symbol id=\"DejaVuSans_68\" width=\"6.264\" height=\"20.344\" viewBox=\"0 -14.789 6.264 20.344\"><path d=\"M 4.113 -3.299 L 4.113 -3.299 Q 2.807 -3.299 2.303 -3 Q 1.799 -2.701 1.799 -1.98 Q 1.799 -1.406 2.177 -1.069 Q 2.555 -0.732 3.205 -0.732 Q 4.102 -0.732 4.644 -1.368 Q 5.186 -2.004 5.186 -3.059 L 5.186 -3.299 Z M 6.264 -3.744 L 6.264 -3.744 L 6.264 0 L 5.186 0 L 5.186 -0.996 Q 4.816 -0.398 4.266 -0.114 Q 3.715 0.17 2.918 0.17 Q 1.91 0.17 1.315 -0.396 Q 0.721 -0.961 0.721 -1.91 Q 0.721 -3.018 1.462 -3.58 Q 2.203 -4.143 3.674 -4.143 L 5.186 -4.143 L 5.186 -4.248 Q 5.186 -4.992 4.696 -5.399 Q 4.207 -5.807 3.322 -5.807 Q 2.76 -5.807 2.227 -5.672 Q 1.693 -5.537 1.201 -5.268 L 1.201 -6.264 Q 1.793 -6.492 2.35 -6.606 Q 2.906 -6.721 3.434 -6.721 Q 4.857 -6.721 5.561 -5.982 Q 6.264 -5.244 6.264 -3.744 Z \" /></symbol><symbol id=\"DejaVuSans_79\" width=\"2.209\" height=\"20.344\" viewBox=\"0 -14.789 2.209 20.344\"><path d=\"M 1.131 -9.117 L 1.131 -9.117 L 2.209 -9.117 L 2.209 0 L 1.131 0 Z \" /></symbol><symbol id=\"DejaVuSans_86\" width=\"5.666\" height=\"20.344\" viewBox=\"0 -14.789 5.666 20.344\"><path d=\"M 5.314 -6.369 L 5.314 -6.369 L 5.314 -5.35 Q 4.857 -5.584 4.365 -5.701 Q 3.873 -5.818 3.346 -5.818 Q 2.543 -5.818 2.142 -5.572 Q 1.74 -5.326 1.74 -4.834 Q 1.74 -4.459 2.027 -4.245 Q 2.314 -4.031 3.182 -3.838 L 3.551 -3.756 Q 4.699 -3.51 5.183 -3.062 Q 5.666 -2.613 5.666 -1.811 Q 5.666 -0.896 4.942 -0.363 Q 4.219 0.17 2.953 0.17 Q 2.426 0.17 1.854 0.067 Q 1.283 -0.035 0.65 -0.24 L 0.65 -1.354 Q 1.248 -1.043 1.828 -0.888 Q 2.408 -0.732 2.977 -0.732 Q 3.738 -0.732 4.148 -0.993 Q 4.559 -1.254 4.559 -1.729 Q 4.559 -2.168 4.263 -2.402 Q 3.967 -2.637 2.965 -2.854 L 2.59 -2.941 Q 1.588 -3.152 1.143 -3.589 Q 0.697 -4.025 0.697 -4.787 Q 0.697 -5.713 1.354 -6.217 Q 2.01 -6.721 3.217 -6.721 Q 3.814 -6.721 4.342 -6.633 Q 4.869 -6.545 5.314 -6.369 Z \" /></symbol><symbol id=\"DejaVuSans_82\" width=\"6.686\" height=\"20.344\" viewBox=\"0 -14.789 6.686 20.344\"><path d=\"M 3.674 -5.807 L 3.674 -5.807 Q 2.807 -5.807 2.303 -5.13 Q 1.799 -4.453 1.799 -3.275 Q 1.799 -2.098 2.3 -1.421 Q 2.801 -0.744 3.674 -0.744 Q 4.535 -0.744 5.039 -1.424 Q 5.543 -2.104 5.543 -3.275 Q 5.543 -4.441 5.039 -5.124 Q 4.535 -5.807 3.674 -5.807 Z M 3.674 -6.721 L 3.674 -6.721 Q 5.08 -6.721 5.883 -5.807 Q 6.686 -4.893 6.686 -3.275 Q 6.686 -1.664 5.883 -0.747 Q 5.08 0.17 3.674 0.17 Q 2.262 0.17 1.462 -0.747 Q 0.662 -1.664 0.662 -3.275 Q 0.662 -4.893 1.462 -5.807 Q 2.262 -6.721 3.674 -6.721 Z \" /></symbol><symbol id=\"DejaVuSans_70\" width=\"5.854\" height=\"20.344\" viewBox=\"0 -14.789 5.854 20.344\"><path d=\"M 5.854 -6.311 L 5.854 -6.311 L 5.854 -5.303 Q 5.396 -5.555 4.937 -5.681 Q 4.477 -5.807 4.008 -5.807 Q 2.959 -5.807 2.379 -5.142 Q 1.799 -4.477 1.799 -3.275 Q 1.799 -2.074 2.379 -1.409 Q 2.959 -0.744 4.008 -0.744 Q 4.477 -0.744 4.937 -0.87 Q 5.396 -0.996 5.854 -1.248 L 5.854 -0.252 Q 5.402 -0.041 4.919 0.064 Q 4.436 0.17 3.891 0.17 Q 2.408 0.17 1.535 -0.762 Q 0.662 -1.693 0.662 -3.275 Q 0.662 -4.881 1.544 -5.801 Q 2.426 -6.721 3.961 -6.721 Q 4.459 -6.721 4.934 -6.618 Q 5.408 -6.516 5.854 -6.311 Z \" /></symbol><symbol id=\"DejaVuSans_87\" width=\"4.418\" height=\"20.344\" viewBox=\"0 -14.789 4.418 20.344\"><path d=\"M 2.197 -8.426 L 2.197 -8.426 L 2.197 -6.562 L 4.418 -6.562 L 4.418 -5.725 L 2.197 -5.725 L 2.197 -2.162 Q 2.197 -1.359 2.417 -1.131 Q 2.637 -0.902 3.311 -0.902 L 4.418 -0.902 L 4.418 0 L 3.311 0 Q 2.062 0 1.588 -0.466 Q 1.113 -0.932 1.113 -2.162 L 1.113 -5.725 L 0.322 -5.725 L 0.322 -6.562 L 1.113 -6.562 L 1.113 -8.426 Z \" /></symbol><symbol id=\"DejaVuSans_92\" width=\"6.744\" height=\"20.344\" viewBox=\"0 -14.789 6.744 20.344\"><path d=\"M 3.861 0.609 L 3.861 0.609 Q 3.404 1.781 2.971 2.139 Q 2.537 2.496 1.811 2.496 L 0.949 2.496 L 0.949 1.594 L 1.582 1.594 Q 2.027 1.594 2.273 1.383 Q 2.52 1.172 2.818 0.387 L 3.012 -0.105 L 0.357 -6.562 L 1.5 -6.562 L 3.551 -1.43 L 5.602 -6.562 L 6.744 -6.562 Z \" /></symbol><g transform=\"\"><use href=\"#DejaVuSans_73\" transform=\"translate(0 -59.156) scale(4)\" /><use href=\"#DejaVuSans_76\" transform=\"translate(16.898 -59.156) scale(4)\" /><use href=\"#DejaVuSans_81\" transform=\"translate(30.234 -59.156) scale(4)\" /><use href=\"#DejaVuSans_72\" transform=\"translate(60.656 -59.156) scale(4)\" /><use href=\"#DejaVuSans_3\" transform=\"translate(90.188 -59.156) scale(4)\" /><use href=\"#DejaVuSans_90\" transform=\"translate(105.445 -59.156) scale(4)\" /><use href=\"#DejaVuSans_68\" transform=\"translate(144.703 -59.156) scale(4)\" /><use href=\"#DejaVuSans_73\" transform=\"translate(174.117 -59.156) scale(4)\" /><use href=\"#DejaVuSans_73\" transform=\"translate(191.016 -59.156) scale(4)\" /><use href=\"#DejaVuSans_79\" transform=\"translate(207.914 -59.156) scale(4)\" /><use href=\"#DejaVuSans_72\" transform=\"translate(221.25 -59.156) scale(4)\" /><use href=\"#DejaVuSans_86\" transform=\"translate(250.781 -59.156) scale(4)\" /><use href=\"#DejaVuSans_3\" transform=\"translate(275.789 -59.156) scale(4)\" /><use href=\"#DejaVuSans_73\" transform=\"translate(291.047 -59.156) scale(4)\" /><use href=\"#DejaVuSans_79\" transform=\"translate(307.945 -59.156) scale(4)\" /><use href=\"#DejaVuSans_82\" transform=\"translate(321.281 -59.156) scale(4)\" /><use href=\"#DejaVuSans_90\" transform=\"translate(350.648 -59.156) scale(4)\" /><use href=\"#DejaVuSans_3\" transform=\"translate(389.906 -59.156) scale(4)\" /><use href=\"#DejaVuSans_72\" transform=\"translate(405.164 -59.156) scale(4)\" /><use href=\"#DejaVuSans_73\" transform=\"translate(434.695 -59.156) scale(4)\" /><use href=\"#DejaVuSans_73\" transform=\"translate(451.594 -59.156) scale(4)\" /><use href=\"#DejaVuSans_76\" transform=\"translate(468.492 -59.156) scale(4)\" /><use href=\"#DejaVuSans_70\" transform=\"translate(481.828 -59.156) scale(4)\" /><use href=\"#DejaVuSans_76\" transform=\"translate(508.219 -59.156) scale(4)\" /><use href=\"#DejaVuSans_72\" transform=\"translate(521.555 -59.156) scale(4)\" /><use href=\"#DejaVuSans_81\" transform=\"translate(551.086 -59.156) scale(4)\" /><use href=\"#DejaVuSans_87\" transform=\"translate(581.508 -59.156) scale(4)\" /><use href=\"#DejaVuSans_79\" transform=\"translate(600.328 -59.156) scale(4)\" /><use href=\"#DejaVuSans_92\" transform=\"translate(613.664 -59.156) scale(4)\" /></g></svg>"
      ],
      "text/plain": [
       "<ziafont.font.Text at 0x7877ce60bbe0>"
      ]
     },
     "execution_count": 4,
     "metadata": {},
     "output_type": "execute_result"
    }
   ],
   "source": [
    "# Common ligatures fi, ffi, fl, ffl\n",
    "font.features.liga = False\n",
    "font.text('fine waffles flow efficiently')"
   ]
  },
  {
   "cell_type": "code",
   "execution_count": 5,
   "id": "0eabc6b6-6f65-4955-b22f-db95896a34a1",
   "metadata": {},
   "outputs": [
    {
     "name": "stderr",
     "output_type": "stream",
     "text": [
      "DEBUG:root:GSUB applied by feature liga in <GSUBLookup Type 4.1>\n"
     ]
    },
    {
     "data": {
      "image/svg+xml": [
       "<svg xmlns=\"http://www.w3.org/2000/svg\" xmlns:xlink=\"http://www.w3.org/1999/xlink\" width=\"640.617\" height=\"81.375\" viewBox=\"0 -59.156 640.617 81.375\"><symbol id=\"DejaVuSans_5042\" width=\"6.434\" height=\"20.344\" viewBox=\"0 -14.789 6.434 20.344\"><path d=\"M 6.434 -6.562 L 6.434 -6.562 L 6.434 0 L 5.35 0 L 5.35 -5.725 L 2.391 -5.725 L 2.391 0 L 1.307 0 L 1.307 -5.725 L 0.275 -5.725 L 0.275 -6.562 L 1.307 -6.562 L 1.307 -7.02 Q 1.307 -8.092 1.813 -8.604 Q 2.32 -9.117 3.369 -9.117 L 4.453 -9.117 L 4.453 -8.221 L 3.422 -8.221 Q 2.842 -8.221 2.616 -7.986 Q 2.391 -7.752 2.391 -7.143 L 2.391 -6.562 Z M 5.35 -9.105 L 5.35 -9.105 L 6.434 -9.105 L 6.434 -7.74 L 5.35 -7.74 Z \" /></symbol><symbol id=\"DejaVuSans_81\" width=\"6.586\" height=\"20.344\" viewBox=\"0 -14.789 6.586 20.344\"><path d=\"M 6.586 -3.961 L 6.586 -3.961 L 6.586 0 L 5.508 0 L 5.508 -3.926 Q 5.508 -4.857 5.145 -5.32 Q 4.781 -5.783 4.055 -5.783 Q 3.182 -5.783 2.678 -5.227 Q 2.174 -4.67 2.174 -3.709 L 2.174 0 L 1.09 0 L 1.09 -6.562 L 2.174 -6.562 L 2.174 -5.543 Q 2.561 -6.135 3.085 -6.428 Q 3.609 -6.721 4.295 -6.721 Q 5.426 -6.721 6.006 -6.021 Q 6.586 -5.32 6.586 -3.961 Z \" /></symbol><symbol id=\"DejaVuSans_72\" width=\"6.744\" height=\"20.344\" viewBox=\"0 -14.789 6.744 20.344\"><path d=\"M 6.744 -3.551 L 6.744 -3.551 L 6.744 -3.023 L 1.787 -3.023 Q 1.857 -1.91 2.458 -1.327 Q 3.059 -0.744 4.131 -0.744 Q 4.752 -0.744 5.335 -0.896 Q 5.918 -1.049 6.492 -1.354 L 6.492 -0.334 Q 5.912 -0.088 5.303 0.041 Q 4.693 0.17 4.066 0.17 Q 2.496 0.17 1.579 -0.744 Q 0.662 -1.658 0.662 -3.217 Q 0.662 -4.828 1.532 -5.774 Q 2.402 -6.721 3.879 -6.721 Q 5.203 -6.721 5.974 -5.868 Q 6.744 -5.016 6.744 -3.551 Z M 5.666 -3.867 L 5.666 -3.867 Q 5.654 -4.752 5.171 -5.279 Q 4.688 -5.807 3.891 -5.807 Q 2.988 -5.807 2.446 -5.297 Q 1.904 -4.787 1.822 -3.861 Z \" /></symbol><symbol id=\"DejaVuSans_3\" width=\"0\" height=\"20.344\" viewBox=\"0 -14.789 0 20.344\" /><symbol id=\"DejaVuSans_90\" width=\"9.311\" height=\"20.344\" viewBox=\"0 -14.789 9.311 20.344\"><path d=\"M 0.504 -6.562 L 0.504 -6.562 L 1.582 -6.562 L 2.93 -1.441 L 4.271 -6.562 L 5.543 -6.562 L 6.891 -1.441 L 8.232 -6.562 L 9.311 -6.562 L 7.594 0 L 6.322 0 L 4.91 -5.379 L 3.492 0 L 2.221 0 Z \" /></symbol><symbol id=\"DejaVuSans_68\" width=\"6.264\" height=\"20.344\" viewBox=\"0 -14.789 6.264 20.344\"><path d=\"M 4.113 -3.299 L 4.113 -3.299 Q 2.807 -3.299 2.303 -3 Q 1.799 -2.701 1.799 -1.98 Q 1.799 -1.406 2.177 -1.069 Q 2.555 -0.732 3.205 -0.732 Q 4.102 -0.732 4.644 -1.368 Q 5.186 -2.004 5.186 -3.059 L 5.186 -3.299 Z M 6.264 -3.744 L 6.264 -3.744 L 6.264 0 L 5.186 0 L 5.186 -0.996 Q 4.816 -0.398 4.266 -0.114 Q 3.715 0.17 2.918 0.17 Q 1.91 0.17 1.315 -0.396 Q 0.721 -0.961 0.721 -1.91 Q 0.721 -3.018 1.462 -3.58 Q 2.203 -4.143 3.674 -4.143 L 5.186 -4.143 L 5.186 -4.248 Q 5.186 -4.992 4.696 -5.399 Q 4.207 -5.807 3.322 -5.807 Q 2.76 -5.807 2.227 -5.672 Q 1.693 -5.537 1.201 -5.268 L 1.201 -6.264 Q 1.793 -6.492 2.35 -6.606 Q 2.906 -6.721 3.434 -6.721 Q 4.857 -6.721 5.561 -5.982 Q 6.264 -5.244 6.264 -3.744 Z \" /></symbol><symbol id=\"DejaVuSans_5045\" width=\"10.477\" height=\"20.344\" viewBox=\"0 -14.789 10.477 20.344\"><path d=\"M 4.453 -9.117 L 4.453 -9.117 L 4.453 -8.221 L 3.422 -8.221 Q 2.842 -8.221 2.613 -7.986 Q 2.391 -7.752 2.391 -7.143 L 2.391 -6.562 L 5.35 -6.562 L 5.35 -7.02 Q 5.35 -8.115 5.859 -8.616 Q 6.369 -9.117 7.477 -9.117 L 10.477 -9.117 L 10.477 0 L 9.393 0 L 9.393 -8.221 L 7.465 -8.221 Q 6.885 -8.221 6.659 -7.986 Q 6.434 -7.752 6.434 -7.143 L 6.434 -6.562 L 8.209 -6.562 L 8.209 -5.725 L 6.434 -5.725 L 6.434 0 L 5.35 0 L 5.35 -5.725 L 2.391 -5.725 L 2.391 0 L 1.307 0 L 1.307 -5.725 L 0.275 -5.725 L 0.275 -6.562 L 1.307 -6.562 L 1.307 -7.02 Q 1.307 -8.115 1.816 -8.616 Q 2.326 -9.117 3.434 -9.117 Z \" /></symbol><symbol id=\"DejaVuSans_86\" width=\"5.666\" height=\"20.344\" viewBox=\"0 -14.789 5.666 20.344\"><path d=\"M 5.314 -6.369 L 5.314 -6.369 L 5.314 -5.35 Q 4.857 -5.584 4.365 -5.701 Q 3.873 -5.818 3.346 -5.818 Q 2.543 -5.818 2.142 -5.572 Q 1.74 -5.326 1.74 -4.834 Q 1.74 -4.459 2.027 -4.245 Q 2.314 -4.031 3.182 -3.838 L 3.551 -3.756 Q 4.699 -3.51 5.183 -3.062 Q 5.666 -2.613 5.666 -1.811 Q 5.666 -0.896 4.942 -0.363 Q 4.219 0.17 2.953 0.17 Q 2.426 0.17 1.854 0.067 Q 1.283 -0.035 0.65 -0.24 L 0.65 -1.354 Q 1.248 -1.043 1.828 -0.888 Q 2.408 -0.732 2.977 -0.732 Q 3.738 -0.732 4.148 -0.993 Q 4.559 -1.254 4.559 -1.729 Q 4.559 -2.168 4.263 -2.402 Q 3.967 -2.637 2.965 -2.854 L 2.59 -2.941 Q 1.588 -3.152 1.143 -3.589 Q 0.697 -4.025 0.697 -4.787 Q 0.697 -5.713 1.354 -6.217 Q 2.01 -6.721 3.217 -6.721 Q 3.814 -6.721 4.342 -6.633 Q 4.869 -6.545 5.314 -6.369 Z \" /></symbol><symbol id=\"DejaVuSans_5043\" width=\"6.434\" height=\"20.344\" viewBox=\"0 -14.789 6.434 20.344\"><path d=\"M 3.434 -9.117 L 3.434 -9.117 L 6.434 -9.117 L 6.434 0 L 5.35 0 L 5.35 -8.221 L 3.422 -8.221 Q 2.842 -8.221 2.616 -7.986 Q 2.391 -7.752 2.391 -7.143 L 2.391 -6.562 L 4.166 -6.562 L 4.166 -5.725 L 2.391 -5.725 L 2.391 0 L 1.307 0 L 1.307 -5.725 L 0.275 -5.725 L 0.275 -6.562 L 1.307 -6.562 L 1.307 -7.02 Q 1.307 -8.115 1.816 -8.616 Q 2.326 -9.117 3.434 -9.117 Z \" /></symbol><symbol id=\"DejaVuSans_82\" width=\"6.686\" height=\"20.344\" viewBox=\"0 -14.789 6.686 20.344\"><path d=\"M 3.674 -5.807 L 3.674 -5.807 Q 2.807 -5.807 2.303 -5.13 Q 1.799 -4.453 1.799 -3.275 Q 1.799 -2.098 2.3 -1.421 Q 2.801 -0.744 3.674 -0.744 Q 4.535 -0.744 5.039 -1.424 Q 5.543 -2.104 5.543 -3.275 Q 5.543 -4.441 5.039 -5.124 Q 4.535 -5.807 3.674 -5.807 Z M 3.674 -6.721 L 3.674 -6.721 Q 5.08 -6.721 5.883 -5.807 Q 6.686 -4.893 6.686 -3.275 Q 6.686 -1.664 5.883 -0.747 Q 5.08 0.17 3.674 0.17 Q 2.262 0.17 1.462 -0.747 Q 0.662 -1.664 0.662 -3.275 Q 0.662 -4.893 1.462 -5.807 Q 2.262 -6.721 3.674 -6.721 Z \" /></symbol><symbol id=\"DejaVuSans_5044\" width=\"10.477\" height=\"20.344\" viewBox=\"0 -14.789 10.477 20.344\"><path d=\"M 4.453 -9.117 L 4.453 -9.117 L 4.453 -8.221 L 3.422 -8.221 Q 2.842 -8.221 2.613 -7.986 Q 2.391 -7.752 2.391 -7.143 L 2.391 -6.562 L 5.35 -6.562 L 5.35 -7.02 Q 5.35 -8.115 5.859 -8.613 Q 6.023 -8.777 6.252 -8.889 Q 6.709 -9.117 7.477 -9.117 L 8.496 -9.117 L 8.496 -8.221 L 7.465 -8.221 Q 6.885 -8.221 6.659 -7.986 Q 6.434 -7.752 6.434 -7.143 L 6.434 -6.562 L 10.477 -6.562 L 10.477 0 L 9.393 0 L 9.393 -5.725 L 6.434 -5.725 L 6.434 0 L 5.35 0 L 5.35 -5.725 L 2.391 -5.725 L 2.391 0 L 1.307 0 L 1.307 -5.725 L 0.275 -5.725 L 0.275 -6.562 L 1.307 -6.562 L 1.307 -7.02 Q 1.307 -8.115 1.816 -8.616 Q 2.326 -9.117 3.434 -9.117 Z M 9.393 -9.105 L 9.393 -9.105 L 10.477 -9.105 L 10.477 -7.74 L 9.393 -7.74 Z \" /></symbol><symbol id=\"DejaVuSans_70\" width=\"5.854\" height=\"20.344\" viewBox=\"0 -14.789 5.854 20.344\"><path d=\"M 5.854 -6.311 L 5.854 -6.311 L 5.854 -5.303 Q 5.396 -5.555 4.937 -5.681 Q 4.477 -5.807 4.008 -5.807 Q 2.959 -5.807 2.379 -5.142 Q 1.799 -4.477 1.799 -3.275 Q 1.799 -2.074 2.379 -1.409 Q 2.959 -0.744 4.008 -0.744 Q 4.477 -0.744 4.937 -0.87 Q 5.396 -0.996 5.854 -1.248 L 5.854 -0.252 Q 5.402 -0.041 4.919 0.064 Q 4.436 0.17 3.891 0.17 Q 2.408 0.17 1.535 -0.762 Q 0.662 -1.693 0.662 -3.275 Q 0.662 -4.881 1.544 -5.801 Q 2.426 -6.721 3.961 -6.721 Q 4.459 -6.721 4.934 -6.618 Q 5.408 -6.516 5.854 -6.311 Z \" /></symbol><symbol id=\"DejaVuSans_76\" width=\"2.209\" height=\"20.344\" viewBox=\"0 -14.789 2.209 20.344\"><path d=\"M 1.131 -6.562 L 1.131 -6.562 L 2.209 -6.562 L 2.209 0 L 1.131 0 Z M 1.131 -9.117 L 1.131 -9.117 L 2.209 -9.117 L 2.209 -7.752 L 1.131 -7.752 Z \" /></symbol><symbol id=\"DejaVuSans_87\" width=\"4.418\" height=\"20.344\" viewBox=\"0 -14.789 4.418 20.344\"><path d=\"M 2.197 -8.426 L 2.197 -8.426 L 2.197 -6.562 L 4.418 -6.562 L 4.418 -5.725 L 2.197 -5.725 L 2.197 -2.162 Q 2.197 -1.359 2.417 -1.131 Q 2.637 -0.902 3.311 -0.902 L 4.418 -0.902 L 4.418 0 L 3.311 0 Q 2.062 0 1.588 -0.466 Q 1.113 -0.932 1.113 -2.162 L 1.113 -5.725 L 0.322 -5.725 L 0.322 -6.562 L 1.113 -6.562 L 1.113 -8.426 Z \" /></symbol><symbol id=\"DejaVuSans_79\" width=\"2.209\" height=\"20.344\" viewBox=\"0 -14.789 2.209 20.344\"><path d=\"M 1.131 -9.117 L 1.131 -9.117 L 2.209 -9.117 L 2.209 0 L 1.131 0 Z \" /></symbol><symbol id=\"DejaVuSans_92\" width=\"6.744\" height=\"20.344\" viewBox=\"0 -14.789 6.744 20.344\"><path d=\"M 3.861 0.609 L 3.861 0.609 Q 3.404 1.781 2.971 2.139 Q 2.537 2.496 1.811 2.496 L 0.949 2.496 L 0.949 1.594 L 1.582 1.594 Q 2.027 1.594 2.273 1.383 Q 2.52 1.172 2.818 0.387 L 3.012 -0.105 L 0.357 -6.562 L 1.5 -6.562 L 3.551 -1.43 L 5.602 -6.562 L 6.744 -6.562 Z \" /></symbol><g transform=\"\"><use href=\"#DejaVuSans_5042\" transform=\"translate(0 -59.156) scale(4)\" /><use href=\"#DejaVuSans_81\" transform=\"translate(30.234 -59.156) scale(4)\" /><use href=\"#DejaVuSans_72\" transform=\"translate(60.656 -59.156) scale(4)\" /><use href=\"#DejaVuSans_3\" transform=\"translate(90.188 -59.156) scale(4)\" /><use href=\"#DejaVuSans_90\" transform=\"translate(105.445 -59.156) scale(4)\" /><use href=\"#DejaVuSans_68\" transform=\"translate(144.703 -59.156) scale(4)\" /><use href=\"#DejaVuSans_5045\" transform=\"translate(174.117 -59.156) scale(4)\" /><use href=\"#DejaVuSans_72\" transform=\"translate(220.523 -59.156) scale(4)\" /><use href=\"#DejaVuSans_86\" transform=\"translate(250.055 -59.156) scale(4)\" /><use href=\"#DejaVuSans_3\" transform=\"translate(275.062 -59.156) scale(4)\" /><use href=\"#DejaVuSans_5043\" transform=\"translate(290.32 -59.156) scale(4)\" /><use href=\"#DejaVuSans_82\" transform=\"translate(320.555 -59.156) scale(4)\" /><use href=\"#DejaVuSans_90\" transform=\"translate(349.922 -59.156) scale(4)\" /><use href=\"#DejaVuSans_3\" transform=\"translate(389.18 -59.156) scale(4)\" /><use href=\"#DejaVuSans_72\" transform=\"translate(404.438 -59.156) scale(4)\" /><use href=\"#DejaVuSans_5044\" transform=\"translate(433.969 -59.156) scale(4)\" /><use href=\"#DejaVuSans_70\" transform=\"translate(480.375 -59.156) scale(4)\" /><use href=\"#DejaVuSans_76\" transform=\"translate(506.766 -59.156) scale(4)\" /><use href=\"#DejaVuSans_72\" transform=\"translate(520.102 -59.156) scale(4)\" /><use href=\"#DejaVuSans_81\" transform=\"translate(549.633 -59.156) scale(4)\" /><use href=\"#DejaVuSans_87\" transform=\"translate(580.055 -59.156) scale(4)\" /><use href=\"#DejaVuSans_79\" transform=\"translate(598.875 -59.156) scale(4)\" /><use href=\"#DejaVuSans_92\" transform=\"translate(612.211 -59.156) scale(4)\" /></g></svg>"
      ],
      "text/plain": [
       "<ziafont.font.Text at 0x7877ce60be20>"
      ]
     },
     "execution_count": 5,
     "metadata": {},
     "output_type": "execute_result"
    }
   ],
   "source": [
    "font.features.liga = True\n",
    "font.text('fine waffles flow efficiently')"
   ]
  },
  {
   "cell_type": "code",
   "execution_count": 6,
   "id": "5f731179-ce86-44a4-ae8f-6b294af14d0c",
   "metadata": {},
   "outputs": [
    {
     "name": "stderr",
     "output_type": "stream",
     "text": [
      "DEBUG:root:GSUB applied by feature ccmp in <GSUBLookup Type 6.2>\n",
      "DEBUG:root:Positioning Mark 690 on 243: (797, 0)\n"
     ]
    },
    {
     "data": {
      "image/svg+xml": [
       "<svg xmlns=\"http://www.w3.org/2000/svg\" xmlns:xlink=\"http://www.w3.org/1999/xlink\" width=\"227.086\" height=\"81.375\" viewBox=\"0 -59.156 227.086 81.375\"><symbol id=\"DejaVuSans_20\" width=\"6.527\" height=\"20.344\" viewBox=\"0 -14.789 6.527 20.344\"><path d=\"M 1.488 -0.996 L 1.488 -0.996 L 3.422 -0.996 L 3.422 -7.67 L 1.318 -7.248 L 1.318 -8.326 L 3.41 -8.748 L 4.594 -8.748 L 4.594 -0.996 L 6.527 -0.996 L 6.527 0 L 1.488 0 Z \" /></symbol><symbol id=\"DejaVuSans_21\" width=\"6.434\" height=\"20.344\" viewBox=\"0 -14.789 6.434 20.344\"><path d=\"M 2.303 -0.996 L 2.303 -0.996 L 6.434 -0.996 L 6.434 0 L 0.879 0 L 0.879 -0.996 Q 1.553 -1.693 2.716 -2.868 Q 3.879 -4.043 4.178 -4.383 Q 4.746 -5.021 4.972 -5.464 Q 5.197 -5.906 5.197 -6.334 Q 5.197 -7.031 4.708 -7.471 Q 4.219 -7.91 3.434 -7.91 Q 2.877 -7.91 2.259 -7.717 Q 1.641 -7.523 0.938 -7.131 L 0.938 -8.326 Q 1.652 -8.613 2.273 -8.76 Q 2.895 -8.906 3.41 -8.906 Q 4.77 -8.906 5.578 -8.227 Q 6.387 -7.547 6.387 -6.41 Q 6.387 -5.871 6.185 -5.388 Q 5.982 -4.904 5.449 -4.248 Q 5.303 -4.078 4.518 -3.267 Q 3.732 -2.455 2.303 -0.996 Z \" /></symbol><symbol id=\"DejaVuSans_22\" width=\"6.674\" height=\"20.344\" viewBox=\"0 -14.789 6.674 20.344\"><path d=\"M 4.869 -4.717 L 4.869 -4.717 Q 5.719 -4.535 6.196 -3.961 Q 6.674 -3.387 6.674 -2.543 Q 6.674 -1.248 5.783 -0.539 Q 4.893 0.17 3.252 0.17 Q 2.701 0.17 2.118 0.062 Q 1.535 -0.047 0.914 -0.264 L 0.914 -1.406 Q 1.406 -1.119 1.992 -0.973 Q 2.578 -0.826 3.217 -0.826 Q 4.33 -0.826 4.913 -1.266 Q 5.496 -1.705 5.496 -2.543 Q 5.496 -3.316 4.954 -3.753 Q 4.412 -4.189 3.445 -4.189 L 2.426 -4.189 L 2.426 -5.162 L 3.492 -5.162 Q 4.365 -5.162 4.828 -5.511 Q 5.291 -5.859 5.291 -6.516 Q 5.291 -7.189 4.813 -7.55 Q 4.336 -7.91 3.445 -7.91 Q 2.959 -7.91 2.402 -7.805 Q 1.846 -7.699 1.178 -7.477 L 1.178 -8.531 Q 1.852 -8.719 2.44 -8.812 Q 3.029 -8.906 3.551 -8.906 Q 4.898 -8.906 5.684 -8.294 Q 6.469 -7.682 6.469 -6.639 Q 6.469 -5.912 6.053 -5.411 Q 5.637 -4.91 4.869 -4.717 Z \" /></symbol><symbol id=\"DejaVuSans_3\" width=\"0\" height=\"20.344\" viewBox=\"0 -14.789 0 20.344\" /><symbol id=\"DejaVuSans_243\" width=\"2.209\" height=\"20.344\" viewBox=\"0 -14.789 2.209 20.344\"><path d=\"M 1.131 -6.562 L 1.131 -6.562 L 2.209 -6.562 L 2.209 0 L 1.131 0 Z M 1.67 -6.721 L 1.67 -6.721 Z \" /></symbol><symbol id=\"DejaVuSans_690\" width=\"2.807\" height=\"20.344\" viewBox=\"-3.838 -14.789 2.807 20.344\"><path d=\"M -2.197 -9.598 L -2.197 -9.598 L -1.031 -9.598 L -2.941 -7.395 L -3.838 -7.395 Z M -3 -6.721 L -3 -6.721 Z \" /></symbol><symbol id=\"DejaVuSans_23\" width=\"6.961\" height=\"20.344\" viewBox=\"0 -14.789 6.961 20.344\"><path d=\"M 4.535 -7.717 L 4.535 -7.717 L 1.547 -3.047 L 4.535 -3.047 Z M 4.225 -8.748 L 4.225 -8.748 L 5.713 -8.748 L 5.713 -3.047 L 6.961 -3.047 L 6.961 -2.062 L 5.713 -2.062 L 5.713 0 L 4.535 0 L 4.535 -2.062 L 0.586 -2.062 L 0.586 -3.205 Z \" /></symbol><symbol id=\"DejaVuSans_24\" width=\"6.586\" height=\"20.344\" viewBox=\"0 -14.789 6.586 20.344\"><path d=\"M 1.295 -8.748 L 1.295 -8.748 L 5.941 -8.748 L 5.941 -7.752 L 2.379 -7.752 L 2.379 -5.607 Q 2.637 -5.695 2.895 -5.739 Q 3.152 -5.783 3.41 -5.783 Q 4.875 -5.783 5.73 -4.98 Q 6.586 -4.178 6.586 -2.807 Q 6.586 -1.395 5.707 -0.612 Q 4.828 0.17 3.229 0.17 Q 2.678 0.17 2.106 0.076 Q 1.535 -0.018 0.926 -0.205 L 0.926 -1.395 Q 1.453 -1.107 2.016 -0.967 Q 2.578 -0.826 3.205 -0.826 Q 4.219 -0.826 4.811 -1.359 Q 5.402 -1.893 5.402 -2.807 Q 5.402 -3.721 4.811 -4.254 Q 4.219 -4.787 3.205 -4.787 Q 2.73 -4.787 2.259 -4.682 Q 1.787 -4.576 1.295 -4.354 Z \" /></symbol><symbol id=\"DejaVuSans_25\" width=\"6.879\" height=\"20.344\" viewBox=\"0 -14.789 6.879 20.344\"><path d=\"M 3.961 -4.846 L 3.961 -4.846 Q 3.164 -4.846 2.698 -4.301 Q 2.232 -3.756 2.232 -2.807 Q 2.232 -1.863 2.698 -1.315 Q 3.164 -0.768 3.961 -0.768 Q 4.758 -0.768 5.224 -1.315 Q 5.689 -1.863 5.689 -2.807 Q 5.689 -3.756 5.224 -4.301 Q 4.758 -4.846 3.961 -4.846 Z M 6.311 -8.555 L 6.311 -8.555 L 6.311 -7.477 Q 5.865 -7.688 5.411 -7.799 Q 4.957 -7.91 4.512 -7.91 Q 3.34 -7.91 2.722 -7.119 Q 2.104 -6.328 2.016 -4.729 Q 2.361 -5.238 2.883 -5.511 Q 3.404 -5.783 4.031 -5.783 Q 5.35 -5.783 6.114 -4.983 Q 6.879 -4.184 6.879 -2.807 Q 6.879 -1.459 6.082 -0.645 Q 5.285 0.17 3.961 0.17 Q 2.443 0.17 1.641 -0.993 Q 0.838 -2.156 0.838 -4.365 Q 0.838 -6.439 1.822 -7.673 Q 2.807 -8.906 4.465 -8.906 Q 4.91 -8.906 5.364 -8.818 Q 5.818 -8.73 6.311 -8.555 Z \" /></symbol><g transform=\"\"><use href=\"#DejaVuSans_20\" transform=\"translate(0 -59.156) scale(4)\" /><use href=\"#DejaVuSans_21\" transform=\"translate(30.539 -59.156) scale(4)\" /><use href=\"#DejaVuSans_22\" transform=\"translate(61.078 -59.156) scale(4)\" /><use href=\"#DejaVuSans_3\" transform=\"translate(91.617 -59.156) scale(4)\" /><use href=\"#DejaVuSans_243\" transform=\"translate(106.875 -59.156) scale(4)\" /><use href=\"#DejaVuSans_690\" transform=\"translate(110.203 -59.156) scale(4)\" /><use href=\"#DejaVuSans_3\" transform=\"translate(120.211 -59.156) scale(4)\" /><use href=\"#DejaVuSans_23\" transform=\"translate(135.469 -59.156) scale(4)\" /><use href=\"#DejaVuSans_24\" transform=\"translate(166.008 -59.156) scale(4)\" /><use href=\"#DejaVuSans_25\" transform=\"translate(196.547 -59.156) scale(4)\" /></g></svg>"
      ],
      "text/plain": [
       "<ziafont.font.Text at 0x7877ce6389d0>"
      ]
     },
     "execution_count": 6,
     "metadata": {},
     "output_type": "execute_result"
    }
   ],
   "source": [
    "font.text(\"123 i\\U00000301 456\")  # dot on i removed by GSUB"
   ]
  },
  {
   "cell_type": "code",
   "execution_count": 7,
   "id": "58365eb1-518d-4a0f-a852-455c7eda1ab0",
   "metadata": {},
   "outputs": [
    {
     "data": {
      "image/svg+xml": [
       "<svg xmlns=\"http://www.w3.org/2000/svg\" xmlns:xlink=\"http://www.w3.org/1999/xlink\" width=\"44.977\" height=\"81.375\" viewBox=\"-0.469 -59.156 44.977 81.375\"><symbol id=\"DejaVuSans_5337\" width=\"2.643\" height=\"20.344\" viewBox=\"-0.117 -14.789 2.643 20.344\"><path d=\"M 2.525 -2.174 L 2.525 -2.174 Q 2.525 -1.131 2.016 -0.539 Q 1.547 0 0.645 0 L -0.117 0 L -0.117 -1.078 L 0.322 -1.078 Q 0.902 -1.078 1.16 -1.336 Q 1.447 -1.623 1.447 -2.244 L 1.447 -9.117 L 2.525 -9.117 Z \" /></symbol><symbol id=\"DejaVuSans_5250\" width=\"3.773\" height=\"20.344\" viewBox=\"0 -14.789 3.773 20.344\"><path d=\"M 1.131 -2.174 L 1.131 -2.174 L 1.131 -9.117 L 2.209 -9.117 L 2.209 -2.244 Q 2.209 -1.623 2.496 -1.336 Q 2.754 -1.078 3.334 -1.078 L 3.773 -1.078 L 3.773 0 L 3.012 0 Q 2.109 0 1.641 -0.539 Q 1.131 -1.131 1.131 -2.174 Z M 0.633 2.344 L 0.633 2.344 L 1.09 2.238 Q 0.832 2.121 0.738 1.91 Q 0.645 1.693 0.645 1.43 Q 0.645 0.867 0.973 0.615 Q 1.312 0.352 1.852 0.352 Q 2.215 0.352 2.52 0.545 L 2.52 1.131 Q 2.227 0.938 1.852 0.938 Q 1.465 0.938 1.365 1.043 Q 1.195 1.23 1.195 1.383 Q 1.195 1.834 1.746 1.992 Q 1.939 2.051 2.643 1.881 L 2.643 2.479 L 0.633 2.93 Z \" /></symbol><symbol id=\"DejaVuSans_3\" width=\"0\" height=\"20.344\" viewBox=\"0 -14.789 0 20.344\" /><g transform=\"\"><use href=\"#DejaVuSans_5337\" transform=\"translate(-0.469 -59.156) scale(4)\" /><use href=\"#DejaVuSans_5250\" transform=\"translate(14.625 -59.156) scale(4)\" /><use href=\"#DejaVuSans_3\" transform=\"translate(29.25 -59.156) scale(4)\" /></g></svg>"
      ],
      "text/plain": [
       "<ziafont.font.Text at 0x7877ce638b20>"
      ]
     },
     "execution_count": 7,
     "metadata": {},
     "output_type": "execute_result"
    }
   ],
   "source": [
    "font.text(\"ﻟﺈ \")  # No substitution in latn script - appears as two glyphs"
   ]
  },
  {
   "cell_type": "code",
   "execution_count": 8,
   "id": "5b05fec9-e39d-4d9c-813b-03f5c6889896",
   "metadata": {},
   "outputs": [
    {
     "name": "stderr",
     "output_type": "stream",
     "text": [
      "DEBUG:root:GSUB applied by feature liga in <GSUBLookup Type 4.1>\n"
     ]
    },
    {
     "data": {
      "image/svg+xml": [
       "<svg xmlns=\"http://www.w3.org/2000/svg\" xmlns:xlink=\"http://www.w3.org/1999/xlink\" width=\"42.633\" height=\"81.375\" viewBox=\"0 -59.156 42.633 81.375\"><symbol id=\"DejaVuSans_5363\" width=\"5.619\" height=\"20.344\" viewBox=\"0 -14.789 5.619 20.344\"><path d=\"M 5.619 -4.887 L 5.619 -4.887 Q 5.619 -3.129 4.805 -1.852 Q 4.482 -1.354 4.031 -0.938 Q 2.83 0.117 1.904 0.117 Q 1.283 0.117 0.844 -0.07 L 0.844 -1.148 Q 1.406 -0.961 1.904 -0.961 Q 2.566 -0.961 3.363 -1.852 L 0.492 -8.262 L 1.541 -8.262 L 4.037 -2.643 Q 4.207 -2.895 4.324 -3.217 Q 4.541 -4.02 4.541 -5.098 L 4.541 -9.117 L 5.619 -9.117 Z M 0.135 2.344 L 0.135 2.344 L 0.592 2.238 Q 0.334 2.121 0.24 1.91 Q 0.146 1.693 0.146 1.43 Q 0.146 0.867 0.475 0.615 Q 0.814 0.352 1.354 0.352 Q 1.717 0.352 2.021 0.545 L 2.021 1.131 Q 1.729 0.938 1.354 0.938 Q 0.967 0.938 0.867 1.043 Q 0.697 1.23 0.697 1.383 Q 0.697 1.834 1.248 1.992 Q 1.441 2.051 2.145 1.881 L 2.145 2.479 L 0.135 2.93 Z \" /></symbol><symbol id=\"DejaVuSans_3\" width=\"0\" height=\"20.344\" viewBox=\"0 -14.789 0 20.344\" /><g transform=\"\"><use href=\"#DejaVuSans_5363\" transform=\"translate(0 -59.156) scale(4)\" /><use href=\"#DejaVuSans_3\" transform=\"translate(27.375 -59.156) scale(4)\" /></g></svg>"
      ],
      "text/plain": [
       "<ziafont.font.Text at 0x7877ce638b50>"
      ]
     },
     "execution_count": 8,
     "metadata": {},
     "output_type": "execute_result"
    }
   ],
   "source": [
    "font.language('arab', '')  # But here they're substituted\n",
    "font.text(\"ﻟﺈ \")"
   ]
  },
  {
   "cell_type": "code",
   "execution_count": 9,
   "id": "e3bcf5e3-6c90-4c2c-b3a4-fef5f64c98f7",
   "metadata": {},
   "outputs": [
    {
     "name": "stderr",
     "output_type": "stream",
     "text": [
      "DEBUG:root:GSUB applied by feature hlig in <GSUBLookup Type 4.1>\n"
     ]
    },
    {
     "data": {
      "image/svg+xml": [
       "<svg xmlns=\"http://www.w3.org/2000/svg\" xmlns:xlink=\"http://www.w3.org/1999/xlink\" width=\"32.93\" height=\"81.375\" viewBox=\"0 -59.156 32.93 81.375\"><symbol id=\"DejaVuSans_5046\" width=\"7.945\" height=\"20.344\" viewBox=\"0 -14.789 7.945 20.344\"><path d=\"M 4.641 -6.562 L 4.641 -6.562 L 4.641 -7.143 Q 4.641 -7.752 4.43 -7.986 Q 4.213 -8.221 3.621 -8.221 L 3.422 -8.221 Q 2.842 -8.221 2.613 -7.986 Q 2.391 -7.752 2.391 -7.143 L 2.391 0 L 1.307 0 L 1.307 -5.725 L 0.275 -5.725 L 0.275 -6.562 L 1.307 -6.562 L 1.307 -7.02 Q 1.307 -8.115 1.816 -8.613 Q 2.326 -9.117 3.434 -9.117 L 3.609 -9.117 Q 4.717 -9.117 5.227 -8.613 Q 5.725 -8.127 5.725 -7.02 L 5.725 -6.562 L 7.945 -6.562 L 7.945 -5.725 L 5.725 -5.725 L 5.725 -2.162 Q 5.725 -1.359 5.941 -1.131 Q 6.164 -0.902 6.838 -0.902 L 7.945 -0.902 L 7.945 0 L 6.838 0 Q 5.59 0 5.115 -0.469 Q 4.641 -0.932 4.641 -2.162 L 4.641 -5.725 L 3.85 -5.725 L 3.85 -6.562 Z \" /></symbol><g transform=\"\"><use href=\"#DejaVuSans_5046\" transform=\"translate(0 -59.156) scale(4)\" /></g></svg>"
      ],
      "text/plain": [
       "<ziafont.font.Text at 0x7877ce58dc40>"
      ]
     },
     "execution_count": 9,
     "metadata": {},
     "output_type": "execute_result"
    }
   ],
   "source": [
    "font.language('latn', '')\n",
    "font.features.hlig = True\n",
    "font.text('ſt')"
   ]
  },
  {
   "cell_type": "code",
   "execution_count": 10,
   "id": "41a2de99-7dfd-4812-a042-895b46f99646",
   "metadata": {},
   "outputs": [
    {
     "data": {
      "image/svg+xml": [
       "<svg xmlns=\"http://www.w3.org/2000/svg\" xmlns:xlink=\"http://www.w3.org/1999/xlink\" width=\"35.719\" height=\"81.375\" viewBox=\"0 -59.156 35.719 81.375\"><symbol id=\"DejaVuSans_321\" width=\"4.453\" height=\"20.344\" viewBox=\"0 -14.789 4.453 20.344\"><path d=\"M 2.391 0 L 2.391 0 L 1.307 0 L 1.307 -5.725 L 0.275 -5.725 L 0.275 -6.562 L 1.307 -6.562 L 1.307 -7.02 Q 1.307 -8.115 1.816 -8.616 Q 2.326 -9.117 3.434 -9.117 L 4.453 -9.117 L 4.453 -8.221 L 3.422 -8.221 Q 2.842 -8.221 2.613 -7.986 Q 2.391 -7.746 2.391 -7.143 Z \" /></symbol><symbol id=\"DejaVuSans_87\" width=\"4.418\" height=\"20.344\" viewBox=\"0 -14.789 4.418 20.344\"><path d=\"M 2.197 -8.426 L 2.197 -8.426 L 2.197 -6.562 L 4.418 -6.562 L 4.418 -5.725 L 2.197 -5.725 L 2.197 -2.162 Q 2.197 -1.359 2.417 -1.131 Q 2.637 -0.902 3.311 -0.902 L 4.418 -0.902 L 4.418 0 L 3.311 0 Q 2.062 0 1.588 -0.466 Q 1.113 -0.932 1.113 -2.162 L 1.113 -5.725 L 0.322 -5.725 L 0.322 -6.562 L 1.113 -6.562 L 1.113 -8.426 Z \" /></symbol><g transform=\"\"><use href=\"#DejaVuSans_321\" transform=\"translate(0 -59.156) scale(4)\" /><use href=\"#DejaVuSans_87\" transform=\"translate(16.898 -59.156) scale(4)\" /></g></svg>"
      ],
      "text/plain": [
       "<ziafont.font.Text at 0x7877ce60be50>"
      ]
     },
     "execution_count": 10,
     "metadata": {},
     "output_type": "execute_result"
    }
   ],
   "source": [
    "font.features.hlig = False\n",
    "font.text('ſt')"
   ]
  },
  {
   "cell_type": "code",
   "execution_count": 11,
   "id": "b81c9e56-9781-4ac5-97bc-c45d6e8e8cf5",
   "metadata": {},
   "outputs": [
    {
     "data": {
      "image/svg+xml": [
       "<svg xmlns=\"http://www.w3.org/2000/svg\" xmlns:xlink=\"http://www.w3.org/1999/xlink\" width=\"56.086\" height=\"81.375\" viewBox=\"0 -59.156 56.086 81.375\"><symbol id=\"DejaVuSans_68\" width=\"6.264\" height=\"20.344\" viewBox=\"0 -14.789 6.264 20.344\"><path d=\"M 4.113 -3.299 L 4.113 -3.299 Q 2.807 -3.299 2.303 -3 Q 1.799 -2.701 1.799 -1.98 Q 1.799 -1.406 2.177 -1.069 Q 2.555 -0.732 3.205 -0.732 Q 4.102 -0.732 4.644 -1.368 Q 5.186 -2.004 5.186 -3.059 L 5.186 -3.299 Z M 6.264 -3.744 L 6.264 -3.744 L 6.264 0 L 5.186 0 L 5.186 -0.996 Q 4.816 -0.398 4.266 -0.114 Q 3.715 0.17 2.918 0.17 Q 1.91 0.17 1.315 -0.396 Q 0.721 -0.961 0.721 -1.91 Q 0.721 -3.018 1.462 -3.58 Q 2.203 -4.143 3.674 -4.143 L 5.186 -4.143 L 5.186 -4.248 Q 5.186 -4.992 4.696 -5.399 Q 4.207 -5.807 3.322 -5.807 Q 2.76 -5.807 2.227 -5.672 Q 1.693 -5.537 1.201 -5.268 L 1.201 -6.264 Q 1.793 -6.492 2.35 -6.606 Q 2.906 -6.721 3.434 -6.721 Q 4.857 -6.721 5.561 -5.982 Q 6.264 -5.244 6.264 -3.744 Z \" /></symbol><symbol id=\"DejaVuSans_79\" width=\"2.209\" height=\"20.344\" viewBox=\"0 -14.789 2.209 20.344\"><path d=\"M 1.131 -9.117 L 1.131 -9.117 L 2.209 -9.117 L 2.209 0 L 1.131 0 Z \" /></symbol><g transform=\"\"><use href=\"#DejaVuSans_68\" transform=\"translate(0 -59.156) scale(4)\" /><use href=\"#DejaVuSans_79\" transform=\"translate(29.414 -59.156) scale(4)\" /><use href=\"#DejaVuSans_79\" transform=\"translate(42.75 -59.156) scale(4)\" /></g></svg>"
      ],
      "text/plain": [
       "<ziafont.font.Text at 0x7877ce596d90>"
      ]
     },
     "execution_count": 11,
     "metadata": {},
     "output_type": "execute_result"
    }
   ],
   "source": [
    "font.features.salt = False\n",
    "font.text('all')"
   ]
  },
  {
   "cell_type": "code",
   "execution_count": 12,
   "id": "85543768-c773-489b-8bad-db693ac5a569",
   "metadata": {},
   "outputs": [
    {
     "name": "stderr",
     "output_type": "stream",
     "text": [
      "DEBUG:root:GSUB applied by feature salt in <GSUBLookup Type 1.2>\n"
     ]
    },
    {
     "data": {
      "image/svg+xml": [
       "<svg xmlns=\"http://www.w3.org/2000/svg\" xmlns:xlink=\"http://www.w3.org/1999/xlink\" width=\"57.141\" height=\"81.375\" viewBox=\"0 -59.156 57.141 81.375\"><symbol id=\"DejaVuSans_531\" width=\"6.527\" height=\"20.344\" viewBox=\"0 -14.789 6.527 20.344\"><path d=\"M 5.449 -5.566 L 5.449 -5.566 L 5.449 -6.562 L 6.527 -6.562 L 6.527 0 L 5.449 0 L 5.449 -0.984 Q 5.109 -0.398 4.591 -0.114 Q 4.072 0.17 3.346 0.17 Q 2.156 0.17 1.409 -0.779 Q 0.662 -1.729 0.662 -3.275 Q 0.662 -4.822 1.409 -5.771 Q 2.156 -6.721 3.346 -6.721 Q 4.072 -6.721 4.591 -6.437 Q 5.109 -6.152 5.449 -5.566 Z M 1.775 -3.275 L 1.775 -3.275 Q 1.775 -2.086 2.265 -1.409 Q 2.754 -0.732 3.609 -0.732 Q 4.465 -0.732 4.957 -1.409 Q 5.449 -2.086 5.449 -3.275 Q 5.449 -4.465 4.957 -5.142 Q 4.465 -5.818 3.609 -5.818 Q 2.754 -5.818 2.265 -5.142 Q 1.775 -4.465 1.775 -3.275 Z \" /></symbol><symbol id=\"DejaVuSans_6005\" width=\"3.334\" height=\"20.344\" viewBox=\"0 -14.789 3.334 20.344\"><path d=\"M 1.131 -9.117 L 1.131 -9.117 L 2.209 -9.117 L 2.209 -2.379 Q 2.209 -1.482 2.432 -1.198 Q 2.654 -0.914 3.27 -0.914 L 3.334 -0.914 L 3.334 0 L 3.146 0 Q 2.086 0 1.608 -0.562 Q 1.131 -1.125 1.131 -2.379 Z \" /></symbol><g transform=\"\"><use href=\"#DejaVuSans_531\" transform=\"translate(0 -59.156) scale(4)\" /><use href=\"#DejaVuSans_6005\" transform=\"translate(30.469 -59.156) scale(4)\" /><use href=\"#DejaVuSans_6005\" transform=\"translate(43.805 -59.156) scale(4)\" /></g></svg>"
      ],
      "text/plain": [
       "<ziafont.font.Text at 0x7877ce596e80>"
      ]
     },
     "execution_count": 12,
     "metadata": {},
     "output_type": "execute_result"
    }
   ],
   "source": [
    "font.features.salt = True  # Alternative glyphs\n",
    "font.text('all')"
   ]
  },
  {
   "cell_type": "code",
   "execution_count": null,
   "id": "d5d0b882-d335-4a97-8b37-ea94b9f7f810",
   "metadata": {},
   "outputs": [],
   "source": []
  },
  {
   "cell_type": "code",
   "execution_count": null,
   "id": "4b523bac-ebc1-4422-9a29-86c6be691468",
   "metadata": {},
   "outputs": [],
   "source": []
  }
 ],
 "metadata": {
  "kernelspec": {
   "display_name": "Python 3 (ipykernel)",
   "language": "python",
   "name": "python3"
  },
  "language_info": {
   "codemirror_mode": {
    "name": "ipython",
    "version": 3
   },
   "file_extension": ".py",
   "mimetype": "text/x-python",
   "name": "python",
   "nbconvert_exporter": "python",
   "pygments_lexer": "ipython3",
   "version": "3.9.12"
  }
 },
 "nbformat": 4,
 "nbformat_minor": 5
}
