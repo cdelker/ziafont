{
 "cells": [
  {
   "cell_type": "code",
   "execution_count": 1,
   "id": "59fc9593-4860-4dc8-87da-d84213307472",
   "metadata": {},
   "outputs": [
    {
     "data": {
      "text/plain": [
       "'0.7'"
      ]
     },
     "execution_count": 1,
     "metadata": {},
     "output_type": "execute_result"
    }
   ],
   "source": [
    "import logging\n",
    "logging.getLogger().setLevel(logging.DEBUG)\n",
    "\n",
    "import ziafont as zf\n",
    "zf.__version__"
   ]
  },
  {
   "cell_type": "code",
   "execution_count": 2,
   "id": "56a182a1-6c8f-4b59-b842-2c07f39e75b6",
   "metadata": {},
   "outputs": [
    {
     "name": "stderr",
     "output_type": "stream",
     "text": [
      "DEBUG:root:Unimplemented GPOS Lookup Type 5\n",
      "DEBUG:root:Unimplemented GPOS Lookup Type 5\n",
      "DEBUG:root:Unimplemented GPOS Lookup Type 5\n"
     ]
    },
    {
     "data": {
      "image/svg+xml": [
       "<svg xmlns=\"http://www.w3.org/2000/svg\" xmlns:xlink=\"http://www.w3.org/1999/xlink\" width=\"110.227\" height=\"81.375\" viewBox=\"-0.141 -59.156 110.227 81.375\"><symbol id=\"DejaVuSans_55\" width=\"7.4\" height=\"20.344\" viewBox=\"-0.035 -14.789 7.4 20.344\"><path d=\"M -0.035 -8.748 L -0.035 -8.748 L 7.365 -8.748 L 7.365 -7.752 L 4.26 -7.752 L 4.26 0 L 3.07 0 L 3.07 -7.752 L -0.035 -7.752 Z \" /></symbol><symbol id=\"DejaVuSans_92\" width=\"6.744\" height=\"20.344\" viewBox=\"0 -14.789 6.744 20.344\"><path d=\"M 3.861 0.609 L 3.861 0.609 Q 3.404 1.781 2.971 2.139 Q 2.537 2.496 1.811 2.496 L 0.949 2.496 L 0.949 1.594 L 1.582 1.594 Q 2.027 1.594 2.273 1.383 Q 2.52 1.172 2.818 0.387 L 3.012 -0.105 L 0.357 -6.562 L 1.5 -6.562 L 3.551 -1.43 L 5.602 -6.562 L 6.744 -6.562 Z \" /></symbol><symbol id=\"DejaVuSans_83\" width=\"6.961\" height=\"20.344\" viewBox=\"0 -14.789 6.961 20.344\"><path d=\"M 2.174 -0.984 L 2.174 -0.984 L 2.174 2.496 L 1.09 2.496 L 1.09 -6.562 L 2.174 -6.562 L 2.174 -5.566 Q 2.514 -6.152 3.032 -6.437 Q 3.551 -6.721 4.271 -6.721 Q 5.467 -6.721 6.214 -5.771 Q 6.961 -4.822 6.961 -3.275 Q 6.961 -1.729 6.214 -0.779 Q 5.467 0.17 4.271 0.17 Q 3.551 0.17 3.032 -0.114 Q 2.514 -0.398 2.174 -0.984 Z M 5.842 -3.275 L 5.842 -3.275 Q 5.842 -4.465 5.353 -5.142 Q 4.863 -5.818 4.008 -5.818 Q 3.152 -5.818 2.663 -5.142 Q 2.174 -4.465 2.174 -3.275 Q 2.174 -2.086 2.663 -1.409 Q 3.152 -0.732 4.008 -0.732 Q 4.863 -0.732 5.353 -1.409 Q 5.842 -2.086 5.842 -3.275 Z \" /></symbol><symbol id=\"DejaVuSans_82\" width=\"6.686\" height=\"20.344\" viewBox=\"0 -14.789 6.686 20.344\"><path d=\"M 3.674 -5.807 L 3.674 -5.807 Q 2.807 -5.807 2.303 -5.13 Q 1.799 -4.453 1.799 -3.275 Q 1.799 -2.098 2.3 -1.421 Q 2.801 -0.744 3.674 -0.744 Q 4.535 -0.744 5.039 -1.424 Q 5.543 -2.104 5.543 -3.275 Q 5.543 -4.441 5.039 -5.124 Q 4.535 -5.807 3.674 -5.807 Z M 3.674 -6.721 L 3.674 -6.721 Q 5.08 -6.721 5.883 -5.807 Q 6.686 -4.893 6.686 -3.275 Q 6.686 -1.664 5.883 -0.747 Q 5.08 0.17 3.674 0.17 Q 2.262 0.17 1.462 -0.747 Q 0.662 -1.664 0.662 -3.275 Q 0.662 -4.893 1.462 -5.807 Q 2.262 -6.721 3.674 -6.721 Z \" /></symbol><g transform=\"\"><use href=\"#DejaVuSans_55\" transform=\"translate(-0.141 -59.156) scale(4)\" /><use href=\"#DejaVuSans_92\" transform=\"translate(21.844 -59.156) scale(4)\" /><use href=\"#DejaVuSans_83\" transform=\"translate(50.25 -59.156) scale(4)\" /><use href=\"#DejaVuSans_82\" transform=\"translate(80.719 -59.156) scale(4)\" /></g></svg>"
      ],
      "text/plain": [
       "<ziafont.font.Text at 0x7f5bae6f24b0>"
      ]
     },
     "execution_count": 2,
     "metadata": {},
     "output_type": "execute_result"
    }
   ],
   "source": [
    "font = zf.Font()\n",
    "font.text('Typo')"
   ]
  },
  {
   "cell_type": "code",
   "execution_count": 3,
   "id": "c14b1248-33f4-4be6-be14-08dd7af0f4a3",
   "metadata": {},
   "outputs": [
    {
     "data": {
      "image/svg+xml": [
       "<svg xmlns=\"http://www.w3.org/2000/svg\" xmlns:xlink=\"http://www.w3.org/1999/xlink\" width=\"117.703\" height=\"81.375\" viewBox=\"-0.141 -59.156 117.703 81.375\"><symbol id=\"DejaVuSans_55\" width=\"7.4\" height=\"20.344\" viewBox=\"-0.035 -14.789 7.4 20.344\"><path d=\"M -0.035 -8.748 L -0.035 -8.748 L 7.365 -8.748 L 7.365 -7.752 L 4.26 -7.752 L 4.26 0 L 3.07 0 L 3.07 -7.752 L -0.035 -7.752 Z \" /></symbol><symbol id=\"DejaVuSans_92\" width=\"6.744\" height=\"20.344\" viewBox=\"0 -14.789 6.744 20.344\"><path d=\"M 3.861 0.609 L 3.861 0.609 Q 3.404 1.781 2.971 2.139 Q 2.537 2.496 1.811 2.496 L 0.949 2.496 L 0.949 1.594 L 1.582 1.594 Q 2.027 1.594 2.273 1.383 Q 2.52 1.172 2.818 0.387 L 3.012 -0.105 L 0.357 -6.562 L 1.5 -6.562 L 3.551 -1.43 L 5.602 -6.562 L 6.744 -6.562 Z \" /></symbol><symbol id=\"DejaVuSans_83\" width=\"6.961\" height=\"20.344\" viewBox=\"0 -14.789 6.961 20.344\"><path d=\"M 2.174 -0.984 L 2.174 -0.984 L 2.174 2.496 L 1.09 2.496 L 1.09 -6.562 L 2.174 -6.562 L 2.174 -5.566 Q 2.514 -6.152 3.032 -6.437 Q 3.551 -6.721 4.271 -6.721 Q 5.467 -6.721 6.214 -5.771 Q 6.961 -4.822 6.961 -3.275 Q 6.961 -1.729 6.214 -0.779 Q 5.467 0.17 4.271 0.17 Q 3.551 0.17 3.032 -0.114 Q 2.514 -0.398 2.174 -0.984 Z M 5.842 -3.275 L 5.842 -3.275 Q 5.842 -4.465 5.353 -5.142 Q 4.863 -5.818 4.008 -5.818 Q 3.152 -5.818 2.663 -5.142 Q 2.174 -4.465 2.174 -3.275 Q 2.174 -2.086 2.663 -1.409 Q 3.152 -0.732 4.008 -0.732 Q 4.863 -0.732 5.353 -1.409 Q 5.842 -2.086 5.842 -3.275 Z \" /></symbol><symbol id=\"DejaVuSans_82\" width=\"6.686\" height=\"20.344\" viewBox=\"0 -14.789 6.686 20.344\"><path d=\"M 3.674 -5.807 L 3.674 -5.807 Q 2.807 -5.807 2.303 -5.13 Q 1.799 -4.453 1.799 -3.275 Q 1.799 -2.098 2.3 -1.421 Q 2.801 -0.744 3.674 -0.744 Q 4.535 -0.744 5.039 -1.424 Q 5.543 -2.104 5.543 -3.275 Q 5.543 -4.441 5.039 -5.124 Q 4.535 -5.807 3.674 -5.807 Z M 3.674 -6.721 L 3.674 -6.721 Q 5.08 -6.721 5.883 -5.807 Q 6.686 -4.893 6.686 -3.275 Q 6.686 -1.664 5.883 -0.747 Q 5.08 0.17 3.674 0.17 Q 2.262 0.17 1.462 -0.747 Q 0.662 -1.664 0.662 -3.275 Q 0.662 -4.893 1.462 -5.807 Q 2.262 -6.721 3.674 -6.721 Z \" /></symbol><g transform=\"\"><use href=\"#DejaVuSans_55\" transform=\"translate(-0.141 -59.156) scale(4)\" /><use href=\"#DejaVuSans_92\" transform=\"translate(29.32 -59.156) scale(4)\" /><use href=\"#DejaVuSans_83\" transform=\"translate(57.727 -59.156) scale(4)\" /><use href=\"#DejaVuSans_82\" transform=\"translate(88.195 -59.156) scale(4)\" /></g></svg>"
      ],
      "text/plain": [
       "<ziafont.font.Text at 0x7f5bcd646a80>"
      ]
     },
     "execution_count": 3,
     "metadata": {},
     "output_type": "execute_result"
    }
   ],
   "source": [
    "font.features.kern = False\n",
    "font.text('Typo')"
   ]
  },
  {
   "cell_type": "code",
   "execution_count": 4,
   "id": "b232edf3-94f7-450b-a57f-a1bc3cb24309",
   "metadata": {},
   "outputs": [
    {
     "name": "stderr",
     "output_type": "stream",
     "text": [
      "DEBUG:root:Positioning Mark 724 on 58: (1525, 1)\n"
     ]
    },
    {
     "data": {
      "image/svg+xml": [
       "<svg xmlns=\"http://www.w3.org/2000/svg\" xmlns:xlink=\"http://www.w3.org/1999/xlink\" width=\"126.117\" height=\"81.375\" viewBox=\"0 -59.156 126.117 81.375\"><symbol id=\"DejaVuSans_58\" width=\"11.473\" height=\"20.344\" viewBox=\"0 -14.789 11.473 20.344\"><path d=\"M 0.398 -8.748 L 0.398 -8.748 L 1.594 -8.748 L 3.434 -1.354 L 5.268 -8.748 L 6.598 -8.748 L 8.438 -1.354 L 10.271 -8.748 L 11.473 -8.748 L 9.275 0 L 7.787 0 L 5.941 -7.594 L 4.078 0 L 2.59 0 Z \" /></symbol><symbol id=\"DejaVuSans_724\" width=\"1.078\" height=\"20.344\" viewBox=\"-3.551 -14.789 1.078 20.344\"><path d=\"M -3.551 0.826 L -3.551 0.826 L -2.473 0.826 L -2.473 2.197 L -3.551 2.197 Z \" /></symbol><symbol id=\"DejaVuSans_75\" width=\"6.586\" height=\"20.344\" viewBox=\"0 -14.789 6.586 20.344\"><path d=\"M 6.586 -3.961 L 6.586 -3.961 L 6.586 0 L 5.508 0 L 5.508 -3.926 Q 5.508 -4.857 5.145 -5.32 Q 4.781 -5.783 4.055 -5.783 Q 3.182 -5.783 2.678 -5.227 Q 2.174 -4.67 2.174 -3.709 L 2.174 0 L 1.09 0 L 1.09 -9.117 L 2.174 -9.117 L 2.174 -5.543 Q 2.561 -6.135 3.085 -6.428 Q 3.609 -6.721 4.295 -6.721 Q 5.426 -6.721 6.006 -6.021 Q 6.586 -5.32 6.586 -3.961 Z \" /></symbol><symbol id=\"DejaVuSans_68\" width=\"6.264\" height=\"20.344\" viewBox=\"0 -14.789 6.264 20.344\"><path d=\"M 4.113 -3.299 L 4.113 -3.299 Q 2.807 -3.299 2.303 -3 Q 1.799 -2.701 1.799 -1.98 Q 1.799 -1.406 2.177 -1.069 Q 2.555 -0.732 3.205 -0.732 Q 4.102 -0.732 4.644 -1.368 Q 5.186 -2.004 5.186 -3.059 L 5.186 -3.299 Z M 6.264 -3.744 L 6.264 -3.744 L 6.264 0 L 5.186 0 L 5.186 -0.996 Q 4.816 -0.398 4.266 -0.114 Q 3.715 0.17 2.918 0.17 Q 1.91 0.17 1.315 -0.396 Q 0.721 -0.961 0.721 -1.91 Q 0.721 -3.018 1.462 -3.58 Q 2.203 -4.143 3.674 -4.143 L 5.186 -4.143 L 5.186 -4.248 Q 5.186 -4.992 4.696 -5.399 Q 4.207 -5.807 3.322 -5.807 Q 2.76 -5.807 2.227 -5.672 Q 1.693 -5.537 1.201 -5.268 L 1.201 -6.264 Q 1.793 -6.492 2.35 -6.606 Q 2.906 -6.721 3.434 -6.721 Q 4.857 -6.721 5.561 -5.982 Q 6.264 -5.244 6.264 -3.744 Z \" /></symbol><symbol id=\"DejaVuSans_87\" width=\"4.418\" height=\"20.344\" viewBox=\"0 -14.789 4.418 20.344\"><path d=\"M 2.197 -8.426 L 2.197 -8.426 L 2.197 -6.562 L 4.418 -6.562 L 4.418 -5.725 L 2.197 -5.725 L 2.197 -2.162 Q 2.197 -1.359 2.417 -1.131 Q 2.637 -0.902 3.311 -0.902 L 4.418 -0.902 L 4.418 0 L 3.311 0 Q 2.062 0 1.588 -0.466 Q 1.113 -0.932 1.113 -2.162 L 1.113 -5.725 L 0.322 -5.725 L 0.322 -6.562 L 1.113 -6.562 L 1.113 -8.426 Z \" /></symbol><g transform=\"\"><use href=\"#DejaVuSans_58\" transform=\"translate(0 -59.156) scale(4)\" /><use href=\"#DejaVuSans_724\" transform=\"translate(21.539 -59.18) scale(4)\" /><use href=\"#DejaVuSans_75\" transform=\"translate(47.461 -59.156) scale(4)\" /><use href=\"#DejaVuSans_68\" transform=\"translate(77.883 -59.156) scale(4)\" /><use href=\"#DejaVuSans_87\" transform=\"translate(107.297 -59.156) scale(4)\" /></g></svg>"
      ],
      "text/plain": [
       "<ziafont.font.Text at 0x7f5bcd4cb950>"
      ]
     },
     "execution_count": 4,
     "metadata": {},
     "output_type": "execute_result"
    }
   ],
   "source": [
    "font.text('W\\U00000323hat')"
   ]
  },
  {
   "cell_type": "code",
   "execution_count": 5,
   "id": "1d926d53-38f3-4168-a48d-5e3ebc2f8fc2",
   "metadata": {},
   "outputs": [
    {
     "name": "stderr",
     "output_type": "stream",
     "text": [
      "DEBUG:root:GSUB applied by feature ccmp in <GSUBLookup Type 6.2>\n",
      "DEBUG:root:Positioning Mark 5922 on 58: (1525, 373)\n",
      "DEBUG:root:Positioning Mark 697 on 68: (1098, 0)\n"
     ]
    },
    {
     "data": {
      "image/svg+xml": [
       "<svg xmlns=\"http://www.w3.org/2000/svg\" xmlns:xlink=\"http://www.w3.org/1999/xlink\" width=\"126.117\" height=\"81.375\" viewBox=\"0 -59.156 126.117 81.375\"><symbol id=\"DejaVuSans_58\" width=\"11.473\" height=\"20.344\" viewBox=\"0 -14.789 11.473 20.344\"><path d=\"M 0.398 -8.748 L 0.398 -8.748 L 1.594 -8.748 L 3.434 -1.354 L 5.268 -8.748 L 6.598 -8.748 L 8.438 -1.354 L 10.271 -8.748 L 11.473 -8.748 L 9.275 0 L 7.787 0 L 5.941 -7.594 L 4.078 0 L 2.59 0 Z \" /></symbol><symbol id=\"DejaVuSans_5922\" width=\"3.48\" height=\"20.344\" viewBox=\"-4.74 -14.789 3.48 20.344\"><path d=\"M -2.449 -8.771 L -2.449 -8.771 L -1.26 -8.771 L -1.26 -7.582 L -2.449 -7.582 Z M -4.74 -8.771 L -4.74 -8.771 L -3.551 -8.771 L -3.551 -7.582 L -4.74 -7.582 Z \" /></symbol><symbol id=\"DejaVuSans_75\" width=\"6.586\" height=\"20.344\" viewBox=\"0 -14.789 6.586 20.344\"><path d=\"M 6.586 -3.961 L 6.586 -3.961 L 6.586 0 L 5.508 0 L 5.508 -3.926 Q 5.508 -4.857 5.145 -5.32 Q 4.781 -5.783 4.055 -5.783 Q 3.182 -5.783 2.678 -5.227 Q 2.174 -4.67 2.174 -3.709 L 2.174 0 L 1.09 0 L 1.09 -9.117 L 2.174 -9.117 L 2.174 -5.543 Q 2.561 -6.135 3.085 -6.428 Q 3.609 -6.721 4.295 -6.721 Q 5.426 -6.721 6.006 -6.021 Q 6.586 -5.32 6.586 -3.961 Z \" /></symbol><symbol id=\"DejaVuSans_68\" width=\"6.264\" height=\"20.344\" viewBox=\"0 -14.789 6.264 20.344\"><path d=\"M 4.113 -3.299 L 4.113 -3.299 Q 2.807 -3.299 2.303 -3 Q 1.799 -2.701 1.799 -1.98 Q 1.799 -1.406 2.177 -1.069 Q 2.555 -0.732 3.205 -0.732 Q 4.102 -0.732 4.644 -1.368 Q 5.186 -2.004 5.186 -3.059 L 5.186 -3.299 Z M 6.264 -3.744 L 6.264 -3.744 L 6.264 0 L 5.186 0 L 5.186 -0.996 Q 4.816 -0.398 4.266 -0.114 Q 3.715 0.17 2.918 0.17 Q 1.91 0.17 1.315 -0.396 Q 0.721 -0.961 0.721 -1.91 Q 0.721 -3.018 1.462 -3.58 Q 2.203 -4.143 3.674 -4.143 L 5.186 -4.143 L 5.186 -4.248 Q 5.186 -4.992 4.696 -5.399 Q 4.207 -5.807 3.322 -5.807 Q 2.76 -5.807 2.227 -5.672 Q 1.693 -5.537 1.201 -5.268 L 1.201 -6.264 Q 1.793 -6.492 2.35 -6.606 Q 2.906 -6.721 3.434 -6.721 Q 4.857 -6.721 5.561 -5.982 Q 6.264 -5.244 6.264 -3.744 Z \" /></symbol><symbol id=\"DejaVuSans_697\" width=\"3.48\" height=\"20.344\" viewBox=\"-4.74 -14.789 3.48 20.344\"><path d=\"M -2.449 -9.094 L -2.449 -9.094 L -1.26 -9.094 L -1.26 -7.91 L -2.449 -7.91 Z M -4.74 -9.094 L -4.74 -9.094 L -3.551 -9.094 L -3.551 -7.91 L -4.74 -7.91 Z M -3 -6.721 L -3 -6.721 Z \" /></symbol><symbol id=\"DejaVuSans_87\" width=\"4.418\" height=\"20.344\" viewBox=\"0 -14.789 4.418 20.344\"><path d=\"M 2.197 -8.426 L 2.197 -8.426 L 2.197 -6.562 L 4.418 -6.562 L 4.418 -5.725 L 2.197 -5.725 L 2.197 -2.162 Q 2.197 -1.359 2.417 -1.131 Q 2.637 -0.902 3.311 -0.902 L 4.418 -0.902 L 4.418 0 L 3.311 0 Q 2.062 0 1.588 -0.466 Q 1.113 -0.932 1.113 -2.162 L 1.113 -5.725 L 0.322 -5.725 L 0.322 -6.562 L 1.113 -6.562 L 1.113 -8.426 Z \" /></symbol><g transform=\"\"><use href=\"#DejaVuSans_58\" transform=\"translate(0 -59.156) scale(4)\" /><use href=\"#DejaVuSans_5922\" transform=\"translate(16.781 -67.898) scale(4)\" /><use href=\"#DejaVuSans_75\" transform=\"translate(47.461 -59.156) scale(4)\" /><use href=\"#DejaVuSans_68\" transform=\"translate(77.883 -59.156) scale(4)\" /><use href=\"#DejaVuSans_697\" transform=\"translate(84.656 -59.156) scale(4)\" /><use href=\"#DejaVuSans_87\" transform=\"translate(107.297 -59.156) scale(4)\" /></g></svg>"
      ],
      "text/plain": [
       "<ziafont.font.Text at 0x7f5bac389be0>"
      ]
     },
     "execution_count": 5,
     "metadata": {},
     "output_type": "execute_result"
    }
   ],
   "source": [
    "font.text('W\\U00000308ha\\U00000308t')"
   ]
  },
  {
   "cell_type": "code",
   "execution_count": 6,
   "id": "c82f4244-51af-4654-982d-64d63cca9d8d",
   "metadata": {},
   "outputs": [
    {
     "name": "stderr",
     "output_type": "stream",
     "text": [
      "DEBUG:root:Positioning Mark 705 on 70: (1188, 0)\n",
      "DEBUG:root:Positioning Mark 697 on 705: (0, 596)\n"
     ]
    },
    {
     "data": {
      "image/svg+xml": [
       "<svg xmlns=\"http://www.w3.org/2000/svg\" xmlns:xlink=\"http://www.w3.org/1999/xlink\" width=\"116.742\" height=\"81.375\" viewBox=\"0 -59.156 116.742 81.375\"><symbol id=\"DejaVuSans_68\" width=\"6.264\" height=\"20.344\" viewBox=\"0 -14.789 6.264 20.344\"><path d=\"M 4.113 -3.299 L 4.113 -3.299 Q 2.807 -3.299 2.303 -3 Q 1.799 -2.701 1.799 -1.98 Q 1.799 -1.406 2.177 -1.069 Q 2.555 -0.732 3.205 -0.732 Q 4.102 -0.732 4.644 -1.368 Q 5.186 -2.004 5.186 -3.059 L 5.186 -3.299 Z M 6.264 -3.744 L 6.264 -3.744 L 6.264 0 L 5.186 0 L 5.186 -0.996 Q 4.816 -0.398 4.266 -0.114 Q 3.715 0.17 2.918 0.17 Q 1.91 0.17 1.315 -0.396 Q 0.721 -0.961 0.721 -1.91 Q 0.721 -3.018 1.462 -3.58 Q 2.203 -4.143 3.674 -4.143 L 5.186 -4.143 L 5.186 -4.248 Q 5.186 -4.992 4.696 -5.399 Q 4.207 -5.807 3.322 -5.807 Q 2.76 -5.807 2.227 -5.672 Q 1.693 -5.537 1.201 -5.268 L 1.201 -6.264 Q 1.793 -6.492 2.35 -6.606 Q 2.906 -6.721 3.434 -6.721 Q 4.857 -6.721 5.561 -5.982 Q 6.264 -5.244 6.264 -3.744 Z \" /></symbol><symbol id=\"DejaVuSans_69\" width=\"6.961\" height=\"20.344\" viewBox=\"0 -14.789 6.961 20.344\"><path d=\"M 5.842 -3.275 L 5.842 -3.275 Q 5.842 -4.465 5.353 -5.142 Q 4.863 -5.818 4.008 -5.818 Q 3.152 -5.818 2.663 -5.142 Q 2.174 -4.465 2.174 -3.275 Q 2.174 -2.086 2.663 -1.409 Q 3.152 -0.732 4.008 -0.732 Q 4.863 -0.732 5.353 -1.409 Q 5.842 -2.086 5.842 -3.275 Z M 2.174 -5.566 L 2.174 -5.566 Q 2.514 -6.152 3.032 -6.437 Q 3.551 -6.721 4.271 -6.721 Q 5.467 -6.721 6.214 -5.771 Q 6.961 -4.822 6.961 -3.275 Q 6.961 -1.729 6.214 -0.779 Q 5.467 0.17 4.271 0.17 Q 3.551 0.17 3.032 -0.114 Q 2.514 -0.398 2.174 -0.984 L 2.174 0 L 1.09 0 L 1.09 -9.117 L 2.174 -9.117 Z \" /></symbol><symbol id=\"DejaVuSans_70\" width=\"5.854\" height=\"20.344\" viewBox=\"0 -14.789 5.854 20.344\"><path d=\"M 5.854 -6.311 L 5.854 -6.311 L 5.854 -5.303 Q 5.396 -5.555 4.937 -5.681 Q 4.477 -5.807 4.008 -5.807 Q 2.959 -5.807 2.379 -5.142 Q 1.799 -4.477 1.799 -3.275 Q 1.799 -2.074 2.379 -1.409 Q 2.959 -0.744 4.008 -0.744 Q 4.477 -0.744 4.937 -0.87 Q 5.396 -0.996 5.854 -1.248 L 5.854 -0.252 Q 5.402 -0.041 4.919 0.064 Q 4.436 0.17 3.891 0.17 Q 2.408 0.17 1.535 -0.762 Q 0.662 -1.693 0.662 -3.275 Q 0.662 -4.881 1.544 -5.801 Q 2.426 -6.721 3.961 -6.721 Q 4.459 -6.721 4.934 -6.618 Q 5.408 -6.516 5.854 -6.311 Z \" /></symbol><symbol id=\"DejaVuSans_705\" width=\"3.668\" height=\"20.344\" viewBox=\"-4.881 -14.789 3.668 20.344\"><path d=\"M -3.551 -11.004 L -3.551 -11.004 L -2.473 -11.004 L -2.473 -9.639 L -3.551 -9.639 Z M -3 -8.607 L -3 -8.607 Z M -4.881 -9.422 L -4.881 -9.422 L -4.189 -9.422 Q -4.125 -8.982 -3.841 -8.763 Q -3.557 -8.543 -3.047 -8.543 Q -2.543 -8.543 -2.262 -8.76 Q -1.98 -8.977 -1.904 -9.422 L -1.213 -9.422 Q -1.271 -8.584 -1.734 -8.162 Q -2.197 -7.74 -3.047 -7.74 Q -3.896 -7.74 -4.359 -8.162 Q -4.822 -8.584 -4.881 -9.422 Z \" /></symbol><symbol id=\"DejaVuSans_697\" width=\"3.48\" height=\"20.344\" viewBox=\"-4.74 -14.789 3.48 20.344\"><path d=\"M -2.449 -9.094 L -2.449 -9.094 L -1.26 -9.094 L -1.26 -7.91 L -2.449 -7.91 Z M -4.74 -9.094 L -4.74 -9.094 L -3.551 -9.094 L -3.551 -7.91 L -4.74 -7.91 Z M -3 -6.721 L -3 -6.721 Z \" /></symbol><symbol id=\"DejaVuSans_71\" width=\"6.527\" height=\"20.344\" viewBox=\"0 -14.789 6.527 20.344\"><path d=\"M 5.449 -5.566 L 5.449 -5.566 L 5.449 -9.117 L 6.527 -9.117 L 6.527 0 L 5.449 0 L 5.449 -0.984 Q 5.109 -0.398 4.591 -0.114 Q 4.072 0.17 3.346 0.17 Q 2.156 0.17 1.409 -0.779 Q 0.662 -1.729 0.662 -3.275 Q 0.662 -4.822 1.409 -5.771 Q 2.156 -6.721 3.346 -6.721 Q 4.072 -6.721 4.591 -6.437 Q 5.109 -6.152 5.449 -5.566 Z M 1.775 -3.275 L 1.775 -3.275 Q 1.775 -2.086 2.265 -1.409 Q 2.754 -0.732 3.609 -0.732 Q 4.465 -0.732 4.957 -1.409 Q 5.449 -2.086 5.449 -3.275 Q 5.449 -4.465 4.957 -5.142 Q 4.465 -5.818 3.609 -5.818 Q 2.754 -5.818 2.265 -5.142 Q 1.775 -4.465 1.775 -3.275 Z \" /></symbol><g transform=\"\"><use href=\"#DejaVuSans_68\" transform=\"translate(0 -59.156) scale(4)\" /><use href=\"#DejaVuSans_69\" transform=\"translate(29.414 -59.156) scale(4)\" /><use href=\"#DejaVuSans_70\" transform=\"translate(59.883 -59.156) scale(4)\" /><use href=\"#DejaVuSans_705\" transform=\"translate(68.203 -59.156) scale(4)\" /><use href=\"#DejaVuSans_697\" transform=\"translate(68.766 -73.125) scale(4)\" /><use href=\"#DejaVuSans_71\" transform=\"translate(86.273 -59.156) scale(4)\" /></g></svg>"
      ],
      "text/plain": [
       "<ziafont.font.Text at 0x7f5bac399130>"
      ]
     },
     "execution_count": 6,
     "metadata": {},
     "output_type": "execute_result"
    }
   ],
   "source": [
    "# Mark-to-mark positions\n",
    "font.text('abc\\U00000310\\U00000308d')"
   ]
  },
  {
   "cell_type": "code",
   "execution_count": 7,
   "id": "58cd9a18-e56f-4542-8383-f9aa4cde1038",
   "metadata": {},
   "outputs": [
    {
     "name": "stderr",
     "output_type": "stream",
     "text": [
      "DEBUG:root:Positioning Mark 724 on 36: (1212, 1)\n",
      "DEBUG:root:Positioning Mark 724 on 47: (1177, 1)\n",
      "DEBUG:root:Positioning Mark 721 on 724: (0, -375)\n",
      "DEBUG:root:Positioning Mark 724 on 74: (1190, -429)\n"
     ]
    },
    {
     "data": {
      "image/svg+xml": [
       "<svg xmlns=\"http://www.w3.org/2000/svg\" xmlns:xlink=\"http://www.w3.org/1999/xlink\" width=\"90.047\" height=\"81.375\" viewBox=\"0 -59.156 90.047 81.375\"><symbol id=\"DejaVuSans_36\" width=\"8.109\" height=\"20.344\" viewBox=\"0 -14.789 8.109 20.344\"><path d=\"M 4.102 -7.582 L 4.102 -7.582 L 2.496 -3.229 L 5.713 -3.229 Z M 3.434 -8.748 L 3.434 -8.748 L 4.775 -8.748 L 8.109 0 L 6.879 0 L 6.082 -2.244 L 2.139 -2.244 L 1.342 0 L 0.094 0 Z \" /></symbol><symbol id=\"DejaVuSans_724\" width=\"1.078\" height=\"20.344\" viewBox=\"-3.551 -14.789 1.078 20.344\"><path d=\"M -3.551 0.826 L -3.551 0.826 L -2.473 0.826 L -2.473 2.197 L -3.551 2.197 Z \" /></symbol><symbol id=\"DejaVuSans_47\" width=\"6.621\" height=\"20.344\" viewBox=\"0 -14.789 6.621 20.344\"><path d=\"M 1.178 -8.748 L 1.178 -8.748 L 2.361 -8.748 L 2.361 -0.996 L 6.621 -0.996 L 6.621 0 L 1.178 0 Z \" /></symbol><symbol id=\"DejaVuSans_721\" width=\"2.871\" height=\"20.344\" viewBox=\"-4.436 -14.789 2.871 20.344\"><path d=\"M -4.436 2.203 L -4.436 2.203 L -4.436 1.406 L -1.564 1.406 L -1.564 2.203 Z \" /></symbol><symbol id=\"DejaVuSans_74\" width=\"6.527\" height=\"20.344\" viewBox=\"0 -14.789 6.527 20.344\"><path d=\"M 5.449 -3.357 L 5.449 -3.357 Q 5.449 -4.529 4.966 -5.174 Q 4.482 -5.818 3.609 -5.818 Q 2.742 -5.818 2.259 -5.174 Q 1.775 -4.529 1.775 -3.357 Q 1.775 -2.191 2.259 -1.547 Q 2.742 -0.902 3.609 -0.902 Q 4.482 -0.902 4.966 -1.547 Q 5.449 -2.191 5.449 -3.357 Z M 6.527 -0.814 L 6.527 -0.814 Q 6.527 0.861 5.783 1.679 Q 5.039 2.496 3.504 2.496 Q 2.936 2.496 2.432 2.411 Q 1.928 2.326 1.453 2.15 L 1.453 1.102 Q 1.928 1.359 2.391 1.482 Q 2.854 1.605 3.334 1.605 Q 4.395 1.605 4.922 1.052 Q 5.449 0.498 5.449 -0.621 L 5.449 -1.154 Q 5.115 -0.574 4.594 -0.287 Q 4.072 0 3.346 0 Q 2.139 0 1.4 -0.92 Q 0.662 -1.84 0.662 -3.357 Q 0.662 -4.881 1.4 -5.801 Q 2.139 -6.721 3.346 -6.721 Q 4.072 -6.721 4.594 -6.434 Q 5.115 -6.146 5.449 -5.566 L 5.449 -6.562 L 6.527 -6.562 Z \" /></symbol><symbol id=\"DejaVuSans_692\" width=\"3.867\" height=\"20.344\" viewBox=\"-4.945 -14.789 3.867 20.344\"><path d=\"M -3.035 -8.027 L -3.035 -8.027 L -3.369 -8.35 Q -3.498 -8.467 -3.595 -8.522 Q -3.691 -8.578 -3.768 -8.578 Q -3.99 -8.578 -4.096 -8.364 Q -4.201 -8.15 -4.213 -7.67 L -4.945 -7.67 Q -4.934 -8.461 -4.635 -8.892 Q -4.336 -9.322 -3.803 -9.322 Q -3.58 -9.322 -3.393 -9.24 Q -3.205 -9.158 -2.988 -8.965 L -2.654 -8.643 Q -2.525 -8.525 -2.429 -8.47 Q -2.332 -8.414 -2.256 -8.414 Q -2.033 -8.414 -1.928 -8.628 Q -1.822 -8.842 -1.811 -9.322 L -1.078 -9.322 Q -1.09 -8.531 -1.389 -8.101 Q -1.688 -7.67 -2.221 -7.67 Q -2.443 -7.67 -2.631 -7.752 Q -2.818 -7.834 -3.035 -8.027 Z \" /></symbol><g transform=\"\"><use href=\"#DejaVuSans_36\" transform=\"translate(0 -59.156) scale(4)\" /><use href=\"#DejaVuSans_724\" transform=\"translate(14.203 -59.18) scale(4)\" /><use href=\"#DejaVuSans_47\" transform=\"translate(32.836 -59.156) scale(4)\" /><use href=\"#DejaVuSans_724\" transform=\"translate(46.219 -59.18) scale(4)\" /><use href=\"#DejaVuSans_721\" transform=\"translate(42.68 -50.391) scale(4)\" /><use href=\"#DejaVuSans_74\" transform=\"translate(59.578 -59.156) scale(4)\" /><use href=\"#DejaVuSans_724\" transform=\"translate(73.266 -49.102) scale(4)\" /><use href=\"#DejaVuSans_692\" transform=\"translate(70.266 -59.156) scale(4)\" /></g></svg>"
      ],
      "text/plain": [
       "<ziafont.font.Text at 0x7f5bac399e20>"
      ]
     },
     "execution_count": 7,
     "metadata": {},
     "output_type": "execute_result"
    }
   ],
   "source": [
    "font.text('A\\U00000323L\\U00000323\\U00000320g\\U00000323\\U00000303')"
   ]
  },
  {
   "cell_type": "code",
   "execution_count": null,
   "id": "9947360b-d13e-4395-97d8-e64b4a960ae6",
   "metadata": {},
   "outputs": [],
   "source": []
  },
  {
   "cell_type": "code",
   "execution_count": null,
   "id": "d3ab7718-61d8-4abb-8f32-72772d1b1c70",
   "metadata": {},
   "outputs": [],
   "source": []
  }
 ],
 "metadata": {
  "kernelspec": {
   "display_name": "Python 3 (ipykernel)",
   "language": "python",
   "name": "python3"
  },
  "language_info": {
   "codemirror_mode": {
    "name": "ipython",
    "version": 3
   },
   "file_extension": ".py",
   "mimetype": "text/x-python",
   "name": "python",
   "nbconvert_exporter": "python",
   "pygments_lexer": "ipython3",
   "version": "3.12.0"
  }
 },
 "nbformat": 4,
 "nbformat_minor": 5
}
